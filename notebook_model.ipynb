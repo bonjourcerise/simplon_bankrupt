{
 "cells": [
  {
   "cell_type": "markdown",
   "id": "81df56d9",
   "metadata": {},
   "source": [
    "# 💸 IA pour la prédiction des faillites d'entreprises"
   ]
  },
  {
   "cell_type": "code",
   "execution_count": 78,
   "id": "2e5a7329",
   "metadata": {},
   "outputs": [],
   "source": [
    "import pandas as pd\n",
    "import numpy as np\n",
    "\n",
    "# data visualization\n",
    "import seaborn as sns\n",
    "%matplotlib inline\n",
    "from matplotlib import pyplot as plt\n",
    "\n",
    "# preprocessing\n",
    "from sklearn import preprocessing\n",
    "from sklearn.preprocessing import StandardScaler\n",
    "from sklearn.preprocessing import RobustScaler\n",
    "from sklearn.model_selection import train_test_split\n",
    "from imblearn.combine import SMOTEENN\n",
    "\n",
    "\n",
    "# metrics\n",
    "from sklearn.metrics import classification_report, confusion_matrix\n",
    "from sklearn.metrics import roc_auc_score\n",
    "from sklearn.metrics import roc_curve, auc\n",
    "from sklearn.model_selection import cross_val_score\n",
    "from sklearn.model_selection import learning_curve\n",
    "\n",
    "\n",
    "# models\n",
    "from sklearn.dummy import DummyClassifier\n",
    "from sklearn.ensemble import RandomForestClassifier\n",
    "\n",
    "\n",
    "# tuning\n",
    "from sklearn.model_selection import GridSearchCV\n",
    "\n",
    "import warnings\n",
    "warnings.filterwarnings('ignore')\n",
    "\n",
    "import pickle"
   ]
  },
  {
   "cell_type": "code",
   "execution_count": 100,
   "id": "1843126f",
   "metadata": {},
   "outputs": [],
   "source": [
    "# read data\n",
    "df = pd.read_csv('data/df.csv')"
   ]
  },
  {
   "cell_type": "markdown",
   "id": "ae22a6d5",
   "metadata": {},
   "source": [
    "<b>Robust Scaler / SMOTE ENN / Random Forest</b>"
   ]
  },
  {
   "cell_type": "markdown",
   "id": "01c9a354",
   "metadata": {},
   "source": [
    "J'utilise ici Smote with ENN : SMOTE est d'abord appliqué pour oversampler, puis en utilisant ENN, les points de données sur la frontière sont supprimés pour augmenter la séparation des deux classes.\n",
    "\n",
    "<img src = \"img/smote_enn.png\" width=\"400\">"
   ]
  },
  {
   "cell_type": "code",
   "execution_count": 101,
   "id": "7c97baf0",
   "metadata": {},
   "outputs": [],
   "source": [
    "# define X & y\n",
    "X = df.drop(['Bankrupt'], axis=1)\n",
    "y = df['Bankrupt']"
   ]
  },
  {
   "cell_type": "code",
   "execution_count": 102,
   "id": "a637a7c5",
   "metadata": {},
   "outputs": [],
   "source": [
    "# standardizing the features (scaling)\n",
    "X_std = RobustScaler().fit_transform(X)"
   ]
  },
  {
   "cell_type": "code",
   "execution_count": 103,
   "id": "26132a21",
   "metadata": {},
   "outputs": [],
   "source": [
    "# split\n",
    "X_train, X_test, y_train, y_test = train_test_split(X_std,y,test_size=0.3)"
   ]
  },
  {
   "cell_type": "code",
   "execution_count": 104,
   "id": "5f8ca47a",
   "metadata": {},
   "outputs": [],
   "source": [
    "smt = SMOTEENN(random_state=42)\n",
    "\n",
    "X_train_smt, y_train_smt = smt.fit_resample(X_train, y_train)\n",
    "\n",
    "# concat in new dataframe\n",
    "df_smt = pd.concat([pd.DataFrame(y_train_smt), pd.DataFrame(X_train_smt)], axis=1)"
   ]
  },
  {
   "cell_type": "code",
   "execution_count": 105,
   "id": "d6a9b1bf",
   "metadata": {},
   "outputs": [
    {
     "data": {
      "image/png": "[encoded data removed]",
      "text/plain": [
       "<Figure size 576x360 with 1 Axes>"
      ]
     },
     "metadata": {
      "needs_background": "light"
     },
     "output_type": "display_data"
    }
   ],
   "source": [
    "# target : \"Bankrupt\" after SMOTE ENN\n",
    "plt.figure(figsize = (8,5))\n",
    "plt.title('0: pas en faillite | 1: a fait faillite)', fontsize=16)\n",
    "sns.countplot(x=\"Bankrupt\", data=df_smt)\n",
    "plt.show()"
   ]
  },
  {
   "cell_type": "code",
   "execution_count": 106,
   "id": "3000bd7e",
   "metadata": {},
   "outputs": [
    {
     "data": {
      "text/plain": [
       "1    4623\n",
       "0    4051\n",
       "Name: Bankrupt, dtype: int64"
      ]
     },
     "execution_count": 106,
     "metadata": {},
     "output_type": "execute_result"
    }
   ],
   "source": [
    "df_smt['Bankrupt'].value_counts()"
   ]
  },
  {
   "cell_type": "code",
   "execution_count": 107,
   "id": "f9872033",
   "metadata": {},
   "outputs": [
    {
     "name": "stdout",
     "output_type": "stream",
     "text": [
      "Fitting 5 folds for each of 9 candidates, totalling 45 fits\n",
      "[CV 1/5] END ...................max_depth=2, n_estimators=50; total time=   0.2s\n",
      "[CV 2/5] END ...................max_depth=2, n_estimators=50; total time=   0.2s\n",
      "[CV 3/5] END ...................max_depth=2, n_estimators=50; total time=   0.2s\n",
      "[CV 4/5] END ...................max_depth=2, n_estimators=50; total time=   0.2s\n",
      "[CV 5/5] END ...................max_depth=2, n_estimators=50; total time=   0.2s\n",
      "[CV 1/5] END ..................max_depth=2, n_estimators=100; total time=   0.5s\n",
      "[CV 2/5] END ..................max_depth=2, n_estimators=100; total time=   0.5s\n",
      "[CV 3/5] END ..................max_depth=2, n_estimators=100; total time=   0.6s\n",
      "[CV 4/5] END ..................max_depth=2, n_estimators=100; total time=   0.6s\n",
      "[CV 5/5] END ..................max_depth=2, n_estimators=100; total time=   0.6s\n",
      "[CV 1/5] END ..................max_depth=2, n_estimators=150; total time=   0.9s\n",
      "[CV 2/5] END ..................max_depth=2, n_estimators=150; total time=   0.9s\n",
      "[CV 3/5] END ..................max_depth=2, n_estimators=150; total time=   0.8s\n",
      "[CV 4/5] END ..................max_depth=2, n_estimators=150; total time=   0.9s\n",
      "[CV 5/5] END ..................max_depth=2, n_estimators=150; total time=   1.1s\n",
      "[CV 1/5] END ...................max_depth=6, n_estimators=50; total time=   0.8s\n",
      "[CV 2/5] END ...................max_depth=6, n_estimators=50; total time=   0.8s\n",
      "[CV 3/5] END ...................max_depth=6, n_estimators=50; total time=   0.7s\n",
      "[CV 4/5] END ...................max_depth=6, n_estimators=50; total time=   0.9s\n",
      "[CV 5/5] END ...................max_depth=6, n_estimators=50; total time=   0.7s\n",
      "[CV 1/5] END ..................max_depth=6, n_estimators=100; total time=   1.5s\n",
      "[CV 2/5] END ..................max_depth=6, n_estimators=100; total time=   1.5s\n",
      "[CV 3/5] END ..................max_depth=6, n_estimators=100; total time=   1.4s\n",
      "[CV 4/5] END ..................max_depth=6, n_estimators=100; total time=   1.4s\n",
      "[CV 5/5] END ..................max_depth=6, n_estimators=100; total time=   1.5s\n",
      "[CV 1/5] END ..................max_depth=6, n_estimators=150; total time=   2.3s\n",
      "[CV 2/5] END ..................max_depth=6, n_estimators=150; total time=   2.2s\n",
      "[CV 3/5] END ..................max_depth=6, n_estimators=150; total time=   2.4s\n",
      "[CV 4/5] END ..................max_depth=6, n_estimators=150; total time=   2.4s\n",
      "[CV 5/5] END ..................max_depth=6, n_estimators=150; total time=   2.3s\n",
      "[CV 1/5] END ..................max_depth=10, n_estimators=50; total time=   1.0s\n",
      "[CV 2/5] END ..................max_depth=10, n_estimators=50; total time=   1.1s\n",
      "[CV 3/5] END ..................max_depth=10, n_estimators=50; total time=   1.1s\n",
      "[CV 4/5] END ..................max_depth=10, n_estimators=50; total time=   1.0s\n",
      "[CV 5/5] END ..................max_depth=10, n_estimators=50; total time=   1.0s\n",
      "[CV 1/5] END .................max_depth=10, n_estimators=100; total time=   2.1s\n",
      "[CV 2/5] END .................max_depth=10, n_estimators=100; total time=   2.2s\n",
      "[CV 3/5] END .................max_depth=10, n_estimators=100; total time=   2.1s\n",
      "[CV 4/5] END .................max_depth=10, n_estimators=100; total time=   2.1s\n",
      "[CV 5/5] END .................max_depth=10, n_estimators=100; total time=   2.1s\n",
      "[CV 1/5] END .................max_depth=10, n_estimators=150; total time=   3.4s\n",
      "[CV 2/5] END .................max_depth=10, n_estimators=150; total time=   3.1s\n",
      "[CV 3/5] END .................max_depth=10, n_estimators=150; total time=   3.1s\n",
      "[CV 4/5] END .................max_depth=10, n_estimators=150; total time=   3.1s\n",
      "[CV 5/5] END .................max_depth=10, n_estimators=150; total time=   3.0s\n",
      "0.9812079814126022\n",
      "{'max_depth': 10, 'n_estimators': 50}\n"
     ]
    }
   ],
   "source": [
    "# Random Forest Classifier with GrindSearchCV\n",
    "\n",
    "# model\n",
    "model_rf3 = RandomForestClassifier()\n",
    "\n",
    "# param grindsearchcv\n",
    "param_grid = {'n_estimators': [50, 100, 150],\n",
    "              'max_depth': [2, 6, 10]\n",
    "             }\n",
    "\n",
    "#gridsearch cv\n",
    "grid = GridSearchCV(model_rf3, param_grid=param_grid, cv=5, scoring='accuracy',verbose=3)\n",
    "\n",
    "#fit\n",
    "grid.fit(X_train_smt, y_train_smt)\n",
    "\n",
    "# score & best parameters\n",
    "print(grid.best_score_)\n",
    "print(grid.best_params_)"
   ]
  },
  {
   "cell_type": "code",
   "execution_count": 111,
   "id": "2aa0778b",
   "metadata": {},
   "outputs": [
    {
     "name": "stdout",
     "output_type": "stream",
     "text": [
      "              precision    recall  f1-score   support\n",
      "\n",
      "           0       0.99      0.90      0.95      1975\n",
      "           1       0.24      0.83      0.37        71\n",
      "\n",
      "    accuracy                           0.90      2046\n",
      "   macro avg       0.61      0.87      0.66      2046\n",
      "weighted avg       0.97      0.90      0.93      2046\n",
      "\n"
     ]
    }
   ],
   "source": [
    "model = grid.best_estimator_\n",
    "y_pred = model.predict(X_test)\n",
    "conf_matrix = confusion_matrix(y_test,y_pred)\n",
    "\n",
    "# score\n",
    "print(classification_report(y_test, y_pred))"
   ]
  },
  {
   "cell_type": "code",
   "execution_count": 112,
   "id": "ab42f147",
   "metadata": {},
   "outputs": [],
   "source": [
    "import pickle\n",
    "\n",
    "with open(\"model.pkl\", \"wb\") as file:\n",
    "    pickle.dump(model, file)"
   ]
  },
  {
   "cell_type": "code",
   "execution_count": 109,
   "id": "24a4e426",
   "metadata": {},
   "outputs": [
    {
     "data": {
      "text/plain": [
       "<AxesSubplot:>"
      ]
     },
     "execution_count": 109,
     "metadata": {},
     "output_type": "execute_result"
    },
    {
     "data": {
      "image/png": "[encoded data removed]",
      "text/plain": [
       "<Figure size 432x288 with 2 Axes>"
      ]
     },
     "metadata": {
      "needs_background": "light"
     },
     "output_type": "display_data"
    }
   ],
   "source": [
    "# confusion matrix\n",
    "group_names = [\"True Neg\", \"False Pos\", \"False Neg\", \"True Pos\"]\n",
    "group_counts = [\"{0:0.0f}\".format(value) for value in conf_matrix.flatten()]\n",
    "group_percentages = [\"{0:.2%}\".format(value) for value in conf_matrix.flatten()/np.sum(conf_matrix)]\n",
    "labels = [f\"{v1}\\n{v2}\\n{v3}\" for v1, v2, v3 in zip(group_names,group_counts,group_percentages)]\n",
    "labels = np.asarray(labels).reshape(2,2)\n",
    "sns.heatmap(conf_matrix, annot=labels, fmt='', cmap='Blues')"
   ]
  },
  {
   "cell_type": "code",
   "execution_count": 110,
   "id": "d09b8f40",
   "metadata": {},
   "outputs": [
    {
     "name": "stdout",
     "output_type": "stream",
     "text": [
      "[0.         0.09721519 1.        ] [0.         0.83098592 1.        ]\n",
      "86.688536280977\n"
     ]
    },
    {
     "data": {
      "image/png": "[encoded data removed]",
      "text/plain": [
       "<Figure size 432x288 with 1 Axes>"
      ]
     },
     "metadata": {
      "needs_background": "light"
     },
     "output_type": "display_data"
    }
   ],
   "source": [
    "from sklearn.metrics import roc_curve,auc\n",
    "fp, tp, thresholds=roc_curve(y_test,y_pred,pos_label=1)\n",
    "print(fp, tp)\n",
    "AUC=auc(fp, tp)*100\n",
    "print(AUC)\n",
    "\n",
    "#tracer tp en fonction de fp\n",
    "import matplotlib.pyplot as plt\n",
    "plt.plot(fp, tp, color='blue',label = 'AUC = %0.2f' % AUC)\n",
    "plt.title('ROC Curve')\n",
    "#plt.plot(fpr, tpr, 'b', label = 'AUC = %0.2f' % AUC)\n",
    "plt.legend(loc = 'lower right')\n",
    "plt.plot([0, 1], [0, 1],'r--')\n",
    "plt.xlim([0, 1])\n",
    "plt.ylim([0, 1])\n",
    "plt.ylabel('True Positive Rate')\n",
    "plt.xlabel('False Positive Rate')\n",
    "plt.show()"
   ]
  },
  {
   "cell_type": "code",
   "execution_count": 114,
   "id": "368291e8",
   "metadata": {},
   "outputs": [
    {
     "data": {
      "image/png": "[encoded data removed]",
      "text/plain": [
       "<Figure size 432x288 with 1 Axes>"
      ]
     },
     "metadata": {
      "needs_background": "light"
     },
     "output_type": "display_data"
    }
   ],
   "source": [
    "# learning curve\n",
    "\n",
    "# Get train scores, train sizes, and validation scores using `learning_curve`, r2 score\n",
    "train_sizes, train_scores, test_scores = learning_curve(estimator = model,\n",
    "                                          X = X_train_smt,\n",
    "                                          y = y_train_smt,\n",
    "                                          train_sizes = [5,10,50,100,200,300,400,1000],\n",
    "                                          cv = 5,\n",
    "                                          shuffle = True,\n",
    "                                          random_state=3)\n",
    "\n",
    "# take the mean of cross-validated train scores and validation scores\n",
    "train_scores_mean = np.mean(train_scores, axis=1)\n",
    "test_scores_mean = np.mean(test_scores, axis=1)\n",
    "\n",
    "# plot the learning curves\n",
    "plt.plot(train_sizes, train_scores_mean, label = 'Training score')\n",
    "plt.plot(train_sizes, test_scores_mean, label = 'Test score')\n",
    "plt.ylabel('Recall', fontsize = 14)\n",
    "plt.xlabel('Training set size', fontsize = 14)\n",
    "plt.title('Learning curves - log model', fontsize = 18, y = 1.03)\n",
    "plt.legend()\n",
    "plt.show()"
   ]
  },
  {
   "cell_type": "markdown",
   "id": "0bfd8e52",
   "metadata": {},
   "source": [
    "# Pickle"
   ]
  },
  {
   "cell_type": "code",
   "execution_count": 115,
   "id": "1c00c0e6",
   "metadata": {},
   "outputs": [
    {
     "data": {
      "text/plain": [
       "0.9002932551319648"
      ]
     },
     "execution_count": 115,
     "metadata": {},
     "output_type": "execute_result"
    }
   ],
   "source": [
    "my_model = pickle.load(open(\"model.pkl\",\"rb\"))\n",
    "my_model.score(X_test, y_test)"
   ]
  }
 ],
 "metadata": {
  "kernelspec": {
   "display_name": "Python 3",
   "language": "python",
   "name": "python3"
  },
  "language_info": {
   "codemirror_mode": {
    "name": "ipython",
    "version": 3
   },
   "file_extension": ".py",
   "mimetype": "text/x-python",
   "name": "python",
   "nbconvert_exporter": "python",
   "pygments_lexer": "ipython3",
   "version": "3.8.8"
  }
 },
 "nbformat": 4,
 "nbformat_minor": 5
}
